{
  "nbformat": 4,
  "nbformat_minor": 0,
  "metadata": {
    "colab": {
      "name": "GOLDEN_Sentiment_Analysis.txt",
      "provenance": [],
      "collapsed_sections": []
    },
    "kernelspec": {
      "name": "python3",
      "display_name": "Python 3"
    },
    "accelerator": "GPU"
  },
  "cells": [
    {
      "cell_type": "markdown",
      "metadata": {
        "id": "NzofSSMl00rF",
        "colab_type": "text"
      },
      "source": [
        "## Twitter US Airlines Sentiment \n",
        "Challenge: To apply a supervised or semi-supervised ULMFiT model to Twitter US Airlines Sentiment\n",
        "\n",
        "This problem is a straightforward language analysis problem, and a good exercise to learn how to filter noisy Data. Often text data that we will analyse will have lots of unnecessary characters and information which is not relevant to the goal of the modeling exercise. This problem reminds us to always view data from that perspective.\n",
        "\n",
        "Text classification can be carried out as unsupervised or supervised.\n",
        "In this case, clearly we are going to use supervised learning as we are using the labels in the columns while training the model.\n",
        "\n",
        "In case of unsupervised model, we would just provide it the various reviews and ask the model to learn.\n",
        "\n",
        "I could not find a SOTA reference for this challenge, although it is a very popular problem on various forums at Kaggle, Medium etc\n",
        "Most of the references though are using Machine Learning Algorithms such as decision trees, Naive Bayes or Logistic Regression etc. \n",
        "However this challenge asked us to use Fast.ai's AW-LSTM Model.\n",
        "\n",
        "There are no visualizations for this , also there is not much need for feature engineering for this Deep Learning problem. FE was usually applicable for mathematical data or data which can be operated upon. \n",
        "\n",
        "We have used TextClassificationInterpretation to interpret the task.\n",
        "\n",
        "### As regards modeling techniques, we train the model in two steps-\n",
        "### 1. We first fine-tune a language model, which is previously trained on Wikipedia text, on the twitter dataset.\n",
        "### 2. We use this language model as an encoder (word embeddings) and train a classifier model.\n",
        "\n",
        "The AWD-LSTM Model is a basic model, unlike the Transformer Model \n",
        "\n",
        "We solve a sentiment analysis problem using the fastai library.\n",
        "\n",
        "This Twitter data was scraped from February of 2015 and contributors were asked to first classify tweets. It contains 14640 texts with label of postive, negative or neutral sentiment. The maximum size of a text is 280 characters which is the limit in Twitter.\n"
      ]
    },
    {
      "cell_type": "markdown",
      "metadata": {
        "id": "otWdpVs7qBtO",
        "colab_type": "text"
      },
      "source": [
        "# Check the GPU"
      ]
    },
    {
      "cell_type": "code",
      "metadata": {
        "id": "L92gkCjOiZtG",
        "colab_type": "code",
        "colab": {
          "base_uri": "https://localhost:8080/",
          "height": 391
        },
        "outputId": "d33274c6-846c-40d8-c3f4-14e02eb95bb9"
      },
      "source": [
        "# Check the GPU\n",
        "!nvidia-smi"
      ],
      "execution_count": null,
      "outputs": [
        {
          "output_type": "stream",
          "text": [
            "Sun Jul 19 12:06:17 2020       \n",
            "+-----------------------------------------------------------------------------+\n",
            "| NVIDIA-SMI 450.51.05    Driver Version: 418.67       CUDA Version: 10.1     |\n",
            "|-------------------------------+----------------------+----------------------+\n",
            "| GPU  Name        Persistence-M| Bus-Id        Disp.A | Volatile Uncorr. ECC |\n",
            "| Fan  Temp  Perf  Pwr:Usage/Cap|         Memory-Usage | GPU-Util  Compute M. |\n",
            "|                               |                      |               MIG M. |\n",
            "|===============================+======================+======================|\n",
            "|   0  Tesla P100-PCIE...  Off  | 00000000:00:04.0 Off |                    0 |\n",
            "| N/A   43C    P0    27W / 250W |      0MiB / 16280MiB |      0%      Default |\n",
            "|                               |                      |                 ERR! |\n",
            "+-------------------------------+----------------------+----------------------+\n",
            "                                                                               \n",
            "+-----------------------------------------------------------------------------+\n",
            "| Processes:                                                                  |\n",
            "|  GPU   GI   CI        PID   Type   Process name                  GPU Memory |\n",
            "|        ID   ID                                                   Usage      |\n",
            "|=============================================================================|\n",
            "|  No running processes found                                                 |\n",
            "+-----------------------------------------------------------------------------+\n"
          ],
          "name": "stdout"
        }
      ]
    },
    {
      "cell_type": "markdown",
      "metadata": {
        "id": "RpBpVpREYn6v",
        "colab_type": "text"
      },
      "source": [
        "# Import Libraries"
      ]
    },
    {
      "cell_type": "code",
      "metadata": {
        "id": "u0W_QfPUYn6x",
        "colab_type": "code",
        "colab": {}
      },
      "source": [
        "%reload_ext autoreload\n",
        "%autoreload 2\n",
        "\n",
        "%matplotlib inline"
      ],
      "execution_count": null,
      "outputs": []
    },
    {
      "cell_type": "code",
      "metadata": {
        "id": "k3HsdoBGYn63",
        "colab_type": "code",
        "colab": {}
      },
      "source": [
        "# fastai library for NLP\n",
        "from fastai.text import *\n",
        "\n",
        "import pandas as pd"
      ],
      "execution_count": null,
      "outputs": []
    },
    {
      "cell_type": "markdown",
      "metadata": {
        "id": "ymXMMQabYn66",
        "colab_type": "text"
      },
      "source": [
        "# Load the Dataset"
      ]
    },
    {
      "cell_type": "code",
      "metadata": {
        "id": "x3jvUrBMgbgX",
        "colab_type": "code",
        "colab": {
          "base_uri": "https://localhost:8080/",
          "height": 131
        },
        "outputId": "c7abaf67-4585-427c-8469-9730377734bb"
      },
      "source": [
        "# Mount google drive to access its files\n",
        "from google.colab import drive\n",
        "drive.mount('/content/drive')"
      ],
      "execution_count": null,
      "outputs": [
        {
          "output_type": "stream",
          "text": [
            "Go to this URL in a browser: https://accounts.google.com/o/oauth2/auth?client_id=947318989803-6bn6qk8qdgf4n4g3pfee6491hc0brc4i.apps.googleusercontent.com&redirect_uri=urn%3aietf%3awg%3aoauth%3a2.0%3aoob&response_type=code&scope=email%20https%3a%2f%2fwww.googleapis.com%2fauth%2fdocs.test%20https%3a%2f%2fwww.googleapis.com%2fauth%2fdrive%20https%3a%2f%2fwww.googleapis.com%2fauth%2fdrive.photos.readonly%20https%3a%2f%2fwww.googleapis.com%2fauth%2fpeopleapi.readonly\n",
            "\n",
            "Enter your authorization code:\n",
            "··········\n",
            "Mounted at /content/drive\n"
          ],
          "name": "stdout"
        }
      ]
    },
    {
      "cell_type": "code",
      "metadata": {
        "id": "zy22cK3RYn6_",
        "colab_type": "code",
        "colab": {}
      },
      "source": [
        "# Provide path to the csv file\n",
        "path = 'drive/My Drive/Fellowship.ai/Sentiment Analysis/Tweets.csv'"
      ],
      "execution_count": null,
      "outputs": []
    },
    {
      "cell_type": "markdown",
      "metadata": {
        "id": "NGnlcGO6Yn7F",
        "colab_type": "text"
      },
      "source": [
        "Print the original csv file to understand the dataset"
      ]
    },
    {
      "cell_type": "code",
      "metadata": {
        "id": "Y-NZ2Zs4Yn7G",
        "colab_type": "code",
        "colab": {
          "base_uri": "https://localhost:8080/",
          "height": 452
        },
        "outputId": "d7b9f2ca-437b-49e0-f8c4-68dd4edbece9"
      },
      "source": [
        "# Read the csv file into a pandas dataframe\n",
        "df = pd.read_csv(path)\n",
        "df.head()"
      ],
      "execution_count": null,
      "outputs": [
        {
          "output_type": "execute_result",
          "data": {
            "text/html": [
              "<div>\n",
              "<style scoped>\n",
              "    .dataframe tbody tr th:only-of-type {\n",
              "        vertical-align: middle;\n",
              "    }\n",
              "\n",
              "    .dataframe tbody tr th {\n",
              "        vertical-align: top;\n",
              "    }\n",
              "\n",
              "    .dataframe thead th {\n",
              "        text-align: right;\n",
              "    }\n",
              "</style>\n",
              "<table border=\"1\" class=\"dataframe\">\n",
              "  <thead>\n",
              "    <tr style=\"text-align: right;\">\n",
              "      <th></th>\n",
              "      <th>tweet_id</th>\n",
              "      <th>airline_sentiment</th>\n",
              "      <th>airline_sentiment_confidence</th>\n",
              "      <th>negativereason</th>\n",
              "      <th>negativereason_confidence</th>\n",
              "      <th>airline</th>\n",
              "      <th>airline_sentiment_gold</th>\n",
              "      <th>name</th>\n",
              "      <th>negativereason_gold</th>\n",
              "      <th>retweet_count</th>\n",
              "      <th>text</th>\n",
              "      <th>tweet_coord</th>\n",
              "      <th>tweet_created</th>\n",
              "      <th>tweet_location</th>\n",
              "      <th>user_timezone</th>\n",
              "    </tr>\n",
              "  </thead>\n",
              "  <tbody>\n",
              "    <tr>\n",
              "      <th>0</th>\n",
              "      <td>570306133677760513</td>\n",
              "      <td>neutral</td>\n",
              "      <td>1.0000</td>\n",
              "      <td>NaN</td>\n",
              "      <td>NaN</td>\n",
              "      <td>Virgin America</td>\n",
              "      <td>NaN</td>\n",
              "      <td>cairdin</td>\n",
              "      <td>NaN</td>\n",
              "      <td>0</td>\n",
              "      <td>@VirginAmerica What @dhepburn said.</td>\n",
              "      <td>NaN</td>\n",
              "      <td>2015-02-24 11:35:52 -0800</td>\n",
              "      <td>NaN</td>\n",
              "      <td>Eastern Time (US &amp; Canada)</td>\n",
              "    </tr>\n",
              "    <tr>\n",
              "      <th>1</th>\n",
              "      <td>570301130888122368</td>\n",
              "      <td>positive</td>\n",
              "      <td>0.3486</td>\n",
              "      <td>NaN</td>\n",
              "      <td>0.0000</td>\n",
              "      <td>Virgin America</td>\n",
              "      <td>NaN</td>\n",
              "      <td>jnardino</td>\n",
              "      <td>NaN</td>\n",
              "      <td>0</td>\n",
              "      <td>@VirginAmerica plus you've added commercials t...</td>\n",
              "      <td>NaN</td>\n",
              "      <td>2015-02-24 11:15:59 -0800</td>\n",
              "      <td>NaN</td>\n",
              "      <td>Pacific Time (US &amp; Canada)</td>\n",
              "    </tr>\n",
              "    <tr>\n",
              "      <th>2</th>\n",
              "      <td>570301083672813571</td>\n",
              "      <td>neutral</td>\n",
              "      <td>0.6837</td>\n",
              "      <td>NaN</td>\n",
              "      <td>NaN</td>\n",
              "      <td>Virgin America</td>\n",
              "      <td>NaN</td>\n",
              "      <td>yvonnalynn</td>\n",
              "      <td>NaN</td>\n",
              "      <td>0</td>\n",
              "      <td>@VirginAmerica I didn't today... Must mean I n...</td>\n",
              "      <td>NaN</td>\n",
              "      <td>2015-02-24 11:15:48 -0800</td>\n",
              "      <td>Lets Play</td>\n",
              "      <td>Central Time (US &amp; Canada)</td>\n",
              "    </tr>\n",
              "    <tr>\n",
              "      <th>3</th>\n",
              "      <td>570301031407624196</td>\n",
              "      <td>negative</td>\n",
              "      <td>1.0000</td>\n",
              "      <td>Bad Flight</td>\n",
              "      <td>0.7033</td>\n",
              "      <td>Virgin America</td>\n",
              "      <td>NaN</td>\n",
              "      <td>jnardino</td>\n",
              "      <td>NaN</td>\n",
              "      <td>0</td>\n",
              "      <td>@VirginAmerica it's really aggressive to blast...</td>\n",
              "      <td>NaN</td>\n",
              "      <td>2015-02-24 11:15:36 -0800</td>\n",
              "      <td>NaN</td>\n",
              "      <td>Pacific Time (US &amp; Canada)</td>\n",
              "    </tr>\n",
              "    <tr>\n",
              "      <th>4</th>\n",
              "      <td>570300817074462722</td>\n",
              "      <td>negative</td>\n",
              "      <td>1.0000</td>\n",
              "      <td>Can't Tell</td>\n",
              "      <td>1.0000</td>\n",
              "      <td>Virgin America</td>\n",
              "      <td>NaN</td>\n",
              "      <td>jnardino</td>\n",
              "      <td>NaN</td>\n",
              "      <td>0</td>\n",
              "      <td>@VirginAmerica and it's a really big bad thing...</td>\n",
              "      <td>NaN</td>\n",
              "      <td>2015-02-24 11:14:45 -0800</td>\n",
              "      <td>NaN</td>\n",
              "      <td>Pacific Time (US &amp; Canada)</td>\n",
              "    </tr>\n",
              "  </tbody>\n",
              "</table>\n",
              "</div>"
            ],
            "text/plain": [
              "             tweet_id  ...               user_timezone\n",
              "0  570306133677760513  ...  Eastern Time (US & Canada)\n",
              "1  570301130888122368  ...  Pacific Time (US & Canada)\n",
              "2  570301083672813571  ...  Central Time (US & Canada)\n",
              "3  570301031407624196  ...  Pacific Time (US & Canada)\n",
              "4  570300817074462722  ...  Pacific Time (US & Canada)\n",
              "\n",
              "[5 rows x 15 columns]"
            ]
          },
          "metadata": {
            "tags": []
          },
          "execution_count": 7
        }
      ]
    },
    {
      "cell_type": "markdown",
      "metadata": {
        "id": "N_7ZiURVVmMp",
        "colab_type": "text"
      },
      "source": [
        "### Since we only need the text and sentiment from the csv file, we copy these two columns to a separate pandas dataframe"
      ]
    },
    {
      "cell_type": "code",
      "metadata": {
        "id": "A7VMFzGHifMa",
        "colab_type": "code",
        "colab": {}
      },
      "source": [
        "df2 = pd.DataFrame({'label':df['airline_sentiment'], 'text':df['text']})"
      ],
      "execution_count": null,
      "outputs": []
    },
    {
      "cell_type": "markdown",
      "metadata": {
        "id": "s8nAkRA_VznG",
        "colab_type": "text"
      },
      "source": [
        "We save the dataframe file as a csv file"
      ]
    },
    {
      "cell_type": "code",
      "metadata": {
        "id": "2dGvUDevYn7K",
        "colab_type": "code",
        "colab": {}
      },
      "source": [
        "# Save the file as csv without the index column\n",
        "df2.to_csv('data.csv', index=False)"
      ],
      "execution_count": null,
      "outputs": []
    },
    {
      "cell_type": "code",
      "metadata": {
        "id": "llERrctskDwY",
        "colab_type": "code",
        "colab": {
          "base_uri": "https://localhost:8080/",
          "height": 206
        },
        "outputId": "119e4986-8a58-4b33-a772-bd03e6e536e3"
      },
      "source": [
        "df = pd.read_csv('data.csv')\n",
        "df.head()"
      ],
      "execution_count": null,
      "outputs": [
        {
          "output_type": "execute_result",
          "data": {
            "text/html": [
              "<div>\n",
              "<style scoped>\n",
              "    .dataframe tbody tr th:only-of-type {\n",
              "        vertical-align: middle;\n",
              "    }\n",
              "\n",
              "    .dataframe tbody tr th {\n",
              "        vertical-align: top;\n",
              "    }\n",
              "\n",
              "    .dataframe thead th {\n",
              "        text-align: right;\n",
              "    }\n",
              "</style>\n",
              "<table border=\"1\" class=\"dataframe\">\n",
              "  <thead>\n",
              "    <tr style=\"text-align: right;\">\n",
              "      <th></th>\n",
              "      <th>label</th>\n",
              "      <th>text</th>\n",
              "    </tr>\n",
              "  </thead>\n",
              "  <tbody>\n",
              "    <tr>\n",
              "      <th>0</th>\n",
              "      <td>neutral</td>\n",
              "      <td>@VirginAmerica What @dhepburn said.</td>\n",
              "    </tr>\n",
              "    <tr>\n",
              "      <th>1</th>\n",
              "      <td>positive</td>\n",
              "      <td>@VirginAmerica plus you've added commercials t...</td>\n",
              "    </tr>\n",
              "    <tr>\n",
              "      <th>2</th>\n",
              "      <td>neutral</td>\n",
              "      <td>@VirginAmerica I didn't today... Must mean I n...</td>\n",
              "    </tr>\n",
              "    <tr>\n",
              "      <th>3</th>\n",
              "      <td>negative</td>\n",
              "      <td>@VirginAmerica it's really aggressive to blast...</td>\n",
              "    </tr>\n",
              "    <tr>\n",
              "      <th>4</th>\n",
              "      <td>negative</td>\n",
              "      <td>@VirginAmerica and it's a really big bad thing...</td>\n",
              "    </tr>\n",
              "  </tbody>\n",
              "</table>\n",
              "</div>"
            ],
            "text/plain": [
              "      label                                               text\n",
              "0   neutral                @VirginAmerica What @dhepburn said.\n",
              "1  positive  @VirginAmerica plus you've added commercials t...\n",
              "2   neutral  @VirginAmerica I didn't today... Must mean I n...\n",
              "3  negative  @VirginAmerica it's really aggressive to blast...\n",
              "4  negative  @VirginAmerica and it's a really big bad thing..."
            ]
          },
          "metadata": {
            "tags": []
          },
          "execution_count": 10
        }
      ]
    },
    {
      "cell_type": "code",
      "metadata": {
        "id": "-o3aF82I30aU",
        "colab_type": "code",
        "colab": {
          "base_uri": "https://localhost:8080/",
          "height": 36
        },
        "outputId": "0073b486-a935-462f-812d-8cef724f5b83"
      },
      "source": [
        "# Number of tweets\n",
        "len(df)"
      ],
      "execution_count": null,
      "outputs": [
        {
          "output_type": "execute_result",
          "data": {
            "text/plain": [
              "14640"
            ]
          },
          "metadata": {
            "tags": []
          },
          "execution_count": 11
        }
      ]
    },
    {
      "cell_type": "markdown",
      "metadata": {
        "id": "EGJC1UWpWJW3",
        "colab_type": "text"
      },
      "source": [
        "#Clean Data\n",
        "This dataset has a column named text which contains the tweets from customers for a particular airline and a label which tells whether the tweet has a positive, neutral or negative sentiment."
      ]
    },
    {
      "cell_type": "markdown",
      "metadata": {
        "id": "JTYr8OnvYn78",
        "colab_type": "text"
      },
      "source": [
        "# Language Model"
      ]
    },
    {
      "cell_type": "markdown",
      "metadata": {
        "id": "7EVzbNo7Xlh1",
        "colab_type": "text"
      },
      "source": [
        "We first have to convert the words into numbers. This is done in two steps-\n",
        "1. Tokenization - We split the entire text using spaces, punctuations, special symbols etc. as delimiters.\n",
        "2. Numericalization - We convert these tokens to a dictionary format where the key is the word and value is the number associated to it.\n",
        "\n",
        "The fastai library will automatically launch the tokenization process with the spacy tokenizer and a few default rules for pre and post-processing before numericalizing the tokens.\n",
        "\n",
        "### When we call TextLMDataBunch function of Fast.ai, all this is done behind the scenes."
      ]
    },
    {
      "cell_type": "code",
      "metadata": {
        "id": "7dLxdoqYffSL",
        "colab_type": "code",
        "colab": {
          "base_uri": "https://localhost:8080/",
          "height": 17
        },
        "outputId": "8738cc3c-7695-4584-9def-df5ed8cbd132"
      },
      "source": [
        "path = ''\n",
        "data_lm = TextLMDataBunch.from_csv(path, 'data.csv')"
      ],
      "execution_count": null,
      "outputs": [
        {
          "output_type": "display_data",
          "data": {
            "text/html": [
              ""
            ],
            "text/plain": [
              "<IPython.core.display.HTML object>"
            ]
          },
          "metadata": {
            "tags": []
          }
        },
        {
          "output_type": "display_data",
          "data": {
            "text/html": [
              ""
            ],
            "text/plain": [
              "<IPython.core.display.HTML object>"
            ]
          },
          "metadata": {
            "tags": []
          }
        }
      ]
    },
    {
      "cell_type": "markdown",
      "metadata": {
        "id": "gstTLgdbbWnq",
        "colab_type": "text"
      },
      "source": [
        "\n",
        "\n",
        "```\n",
        "# This is formatted as code\n",
        "```\n",
        "\n",
        "When we display a batch, there are no y_labels as we only need the text to build the vocabulary."
      ]
    },
    {
      "cell_type": "code",
      "metadata": {
        "id": "8jSVQb_gfmBA",
        "colab_type": "code",
        "colab": {
          "base_uri": "https://localhost:8080/",
          "height": 345
        },
        "outputId": "c031077f-f10c-41ea-9a58-d1b18f482305"
      },
      "source": [
        "data_lm.show_batch()"
      ],
      "execution_count": null,
      "outputs": [
        {
          "output_type": "display_data",
          "data": {
            "text/html": [
              "<table border=\"1\" class=\"dataframe\">\n",
              "  <thead>\n",
              "    <tr style=\"text-align: right;\">\n",
              "      <th>idx</th>\n",
              "      <th>text</th>\n",
              "    </tr>\n",
              "  </thead>\n",
              "  <tbody>\n",
              "    <tr>\n",
              "      <td>0</td>\n",
              "      <td>. xxmaj thank you xxbos @americanair welcome anyone who works in those conditions deserves a thank you even though i am other side of # xxmaj atlantic lol xx xxbos @united xxmaj good evening , xxup ua . xxmaj can you assist with an issue via xxup dm ? xxbos @usairways thanks for getting us on ur plane . xxmaj awesome flight attendant who is making us smile after difficult</td>\n",
              "    </tr>\n",
              "    <tr>\n",
              "      <td>1</td>\n",
              "      <td>'s y all corporate number bc y all are not trying to accommodate me at all ! ! ! xxbos @jetblue xxmaj love your airline ... hate your website . xxmaj just tried to book 2 tickets ( 1 w miles , 1 w / out ) . xxmaj absolute joke . xxmaj needs a lot of work ! xxbos @united 129 thousand fans of @jedediahbila are asking you to</td>\n",
              "    </tr>\n",
              "    <tr>\n",
              "      <td>2</td>\n",
              "      <td>@usairways i submitted refund request b4 1st flight 2 days ago . xxmaj is that all i need 2 do ? xxbos @united thanks for the reply . xxmaj to clarify , the airfare is similar to your likely intended xxunk group . xxmaj the $ 3 beer charge , however , is not xxbos @united we were not given the option of using our xxmaj united xxunk in a</td>\n",
              "    </tr>\n",
              "    <tr>\n",
              "      <td>3</td>\n",
              "      <td>simply amazing . xxmaj xxunk for miles . xxmaj thank u for my upgrade tomorrow for xxunk are spending a lot of time together next few weeks ! xxbos @jetblue i did not report the updated info - do n't know how to reach them without a super long wait on hold at your main number . xxbos @southwestair # destinationdragons xxmaj any word on winners of contest ? xxmaj</td>\n",
              "    </tr>\n",
              "    <tr>\n",
              "      <td>4</td>\n",
              "      <td>they do n't want to honor my flight . xxbos @usairways xxmaj thank you , @usairways ! xxmaj your fare to from xxup dtw to xxup dca was much lower than @delta and @southwestair ! xxmaj thank you ! xxmaj you won me over ! xxbos @southwestair and thx for not responding xxbos @jetblue xxmaj only middle seats . xxup sfo - &gt; xxup bos . xxmaj not fun .</td>\n",
              "    </tr>\n",
              "  </tbody>\n",
              "</table>"
            ],
            "text/plain": [
              "<IPython.core.display.HTML object>"
            ]
          },
          "metadata": {
            "tags": []
          }
        }
      ]
    },
    {
      "cell_type": "markdown",
      "metadata": {
        "id": "ZPc9XZf8welE",
        "colab_type": "text"
      },
      "source": [
        "There are quite a few strange tokens starting with xx. These are special FastAI tokens that have the following meanings:\n",
        "\n",
        "    xxunk: Token used instead of unknown words (words not found in the vocabulary).\n",
        "    xxbos: Beginning of a text.\n",
        "    xxfld: Represents separate parts of your document (several columns in a dataframe) like headline, body, summary, etc.\n",
        "    xxmaj: Indicates that the next word starts with a capital, e.g. “House” will be tokenized as “xxmaj house”.\n",
        "    xxup: Indicates that next word is written in all caps, e.g. “WHY” will be tokenized as “xxup why ”.\n",
        "    xxrep: Token indicates that a character is repeated n times, e.g. if you have  10 $ in a row it will be tokenized as “xxrep 10 $” (in general “xxrep n  {char}”)\n",
        "    xxwrep: Indicates that a word is repeated n times.\n",
        "    xxpad : Token used as padding (so every text has the same length)"
      ]
    },
    {
      "cell_type": "code",
      "metadata": {
        "id": "C1Hq6LeVHEaC",
        "colab_type": "code",
        "colab": {
          "base_uri": "https://localhost:8080/",
          "height": 578
        },
        "outputId": "f622ed22-d029-4ac6-db69-4c4fa812ea91"
      },
      "source": [
        "# Print the first 30 items in the vocabulary\n",
        "data_lm.vocab.itos[:30]"
      ],
      "execution_count": null,
      "outputs": [
        {
          "output_type": "execute_result",
          "data": {
            "text/plain": [
              "['xxunk',\n",
              " 'xxpad',\n",
              " 'xxbos',\n",
              " 'xxeos',\n",
              " 'xxfld',\n",
              " 'xxmaj',\n",
              " 'xxup',\n",
              " 'xxrep',\n",
              " 'xxwrep',\n",
              " '.',\n",
              " 'to',\n",
              " 'i',\n",
              " 'the',\n",
              " '!',\n",
              " 'a',\n",
              " '?',\n",
              " 'you',\n",
              " '/',\n",
              " ',',\n",
              " 'for',\n",
              " 'flight',\n",
              " '@united',\n",
              " 'on',\n",
              " 'and',\n",
              " '#',\n",
              " 'my',\n",
              " '@usairways',\n",
              " '@americanair',\n",
              " 'is',\n",
              " 'in']"
            ]
          },
          "metadata": {
            "tags": []
          },
          "execution_count": 14
        }
      ]
    },
    {
      "cell_type": "code",
      "metadata": {
        "id": "x04CWt3cHuqn",
        "colab_type": "code",
        "colab": {
          "base_uri": "https://localhost:8080/",
          "height": 149
        },
        "outputId": "c8ad6443-11d7-4d10-f70e-c4c6fca1afaa"
      },
      "source": [
        "# Sanity print check the data in language model\n",
        "data_lm.train_ds"
      ],
      "execution_count": null,
      "outputs": [
        {
          "output_type": "execute_result",
          "data": {
            "text/plain": [
              "LabelList (11711 items)\n",
              "x: LMTextList\n",
              "xxbos @usairways it 's not like i 'm trying to leave earlier just for fun . i do n't want to get stuck in xxup dc if we have bad weather in xxup rdu .,xxbos @united xxmaj will do ! xxmaj thanks !,xxbos @jetblue unfortunately i was so xxunk and rushed , i did n't get the name , but will provide a xxunk in my xxunk email . xxmaj thank you,xxbos @americanair welcome anyone who works in those conditions deserves a thank you even though i am other side of # xxmaj atlantic lol xx,xxbos @united xxmaj good evening , xxup ua . xxmaj can you assist with an issue via xxup dm ?\n",
              "y: LMLabelList\n",
              ",,,,\n",
              "Path: ."
            ]
          },
          "metadata": {
            "tags": []
          },
          "execution_count": 15
        }
      ]
    },
    {
      "cell_type": "code",
      "metadata": {
        "id": "uUHYCp4QHSwh",
        "colab_type": "code",
        "colab": {
          "base_uri": "https://localhost:8080/",
          "height": 54
        },
        "outputId": "7fae1696-f945-48d2-f52f-0aafab6b875a"
      },
      "source": [
        "# Print the Numericalization data i.e. numbers associated with the words\n",
        "data_lm.train_ds[0][0].data"
      ],
      "execution_count": null,
      "outputs": [
        {
          "output_type": "execute_result",
          "data": {
            "text/plain": [
              "array([  2,  26,  31,  44,  41, 119,  11,  82, 141,  10, 355, 419,  64,  19, 965,   9,  11,  47,  34, 188,  10,  49,\n",
              "       246,  29,   6, 632,  87,  51,  37, 238, 150,  29,   6, 820,   9])"
            ]
          },
          "metadata": {
            "tags": []
          },
          "execution_count": 16
        }
      ]
    },
    {
      "cell_type": "markdown",
      "metadata": {
        "id": "EL-yD8-zbkzU",
        "colab_type": "text"
      },
      "source": [
        "Finally, we will load this data into a learner object with a model having pretrained weights"
      ]
    },
    {
      "cell_type": "markdown",
      "metadata": {
        "id": "tKvw_0XW4wx5",
        "colab_type": "text"
      },
      "source": [
        "## AWD LSTM \n",
        "\n",
        "As such, AWD-LSTM has been dominating the state-of-the-art language modeling. A lot of top research papers on word-level models incorporate AWD-LSTMs. And it has shown great results on character-level models as well.\n",
        "\n",
        "Since we are using a small dataset with a max size of 280 characters in a sample, a regularized and optimized LSTM model should be more than sufficient to achieve good results. It serves the purpose to form and remember the context by having long short-term memory, earlier missing in simple RNNs.\n",
        "\n",
        "The fast.ai's universal language model ULMfit uses Stephen Merity’s Wikitext 103 dataset, which contains a pre-processed large subset of English Wikipedia. This helps us leverage the power of word embeddings, which further helps the model to understand and associate a text to a particular sentiment.\n",
        "\n",
        "### Fast.ai's ULMFit Model uses the AWD-LSTM architecture and applies the appropriate weights using the language_model_learner wrapper."
      ]
    },
    {
      "cell_type": "code",
      "metadata": {
        "id": "VWWcESCEYn8V",
        "colab_type": "code",
        "colab": {
          "base_uri": "https://localhost:8080/",
          "height": 36
        },
        "outputId": "7425f178-4489-4ccb-e56a-0bff6688e228"
      },
      "source": [
        "learn = language_model_learner(data_lm, AWD_LSTM, drop_mult=0.3)"
      ],
      "execution_count": null,
      "outputs": [
        {
          "output_type": "stream",
          "text": [
            "Downloading https://s3.amazonaws.com/fast-ai-modelzoo/wt103-fwd.tgz\n"
          ],
          "name": "stdout"
        },
        {
          "output_type": "display_data",
          "data": {
            "text/html": [
              ""
            ],
            "text/plain": [
              "<IPython.core.display.HTML object>"
            ]
          },
          "metadata": {
            "tags": []
          }
        }
      ]
    },
    {
      "cell_type": "code",
      "metadata": {
        "id": "f1wP48ShYn8Z",
        "colab_type": "code",
        "colab": {
          "base_uri": "https://localhost:8080/",
          "height": 145
        },
        "outputId": "b5d26027-464c-4029-c684-11be6eb01653"
      },
      "source": [
        "learn.lr_find()"
      ],
      "execution_count": null,
      "outputs": [
        {
          "output_type": "display_data",
          "data": {
            "text/html": [
              "\n",
              "    <div>\n",
              "        <style>\n",
              "            /* Turns off some styling */\n",
              "            progress {\n",
              "                /* gets rid of default border in Firefox and Opera. */\n",
              "                border: none;\n",
              "                /* Needs to be in here for Safari polyfill so background images work as expected. */\n",
              "                background-size: auto;\n",
              "            }\n",
              "            .progress-bar-interrupted, .progress-bar-interrupted::-webkit-progress-bar {\n",
              "                background: #F44336;\n",
              "            }\n",
              "        </style>\n",
              "      <progress value='1' class='' max='2' style='width:300px; height:20px; vertical-align: middle;'></progress>\n",
              "      50.00% [1/2 00:06<00:06]\n",
              "    </div>\n",
              "    \n",
              "<table border=\"1\" class=\"dataframe\">\n",
              "  <thead>\n",
              "    <tr style=\"text-align: left;\">\n",
              "      <th>epoch</th>\n",
              "      <th>train_loss</th>\n",
              "      <th>valid_loss</th>\n",
              "      <th>accuracy</th>\n",
              "      <th>time</th>\n",
              "    </tr>\n",
              "  </thead>\n",
              "  <tbody>\n",
              "    <tr>\n",
              "      <td>0</td>\n",
              "      <td>6.388725</td>\n",
              "      <td>#na#</td>\n",
              "      <td>00:06</td>\n",
              "    </tr>\n",
              "  </tbody>\n",
              "</table><p>\n",
              "\n",
              "    <div>\n",
              "        <style>\n",
              "            /* Turns off some styling */\n",
              "            progress {\n",
              "                /* gets rid of default border in Firefox and Opera. */\n",
              "                border: none;\n",
              "                /* Needs to be in here for Safari polyfill so background images work as expected. */\n",
              "                background-size: auto;\n",
              "            }\n",
              "            .progress-bar-interrupted, .progress-bar-interrupted::-webkit-progress-bar {\n",
              "                background: #F44336;\n",
              "            }\n",
              "        </style>\n",
              "      <progress value='34' class='' max='64' style='width:300px; height:20px; vertical-align: middle;'></progress>\n",
              "      53.12% [34/64 00:03<00:02 9.0072]\n",
              "    </div>\n",
              "    "
            ],
            "text/plain": [
              "<IPython.core.display.HTML object>"
            ]
          },
          "metadata": {
            "tags": []
          }
        },
        {
          "output_type": "stream",
          "text": [
            "LR Finder is complete, type {learner_name}.recorder.plot() to see the graph.\n"
          ],
          "name": "stdout"
        }
      ]
    },
    {
      "cell_type": "code",
      "metadata": {
        "colab_type": "code",
        "id": "NmhVE3J0ci2n",
        "colab": {
          "base_uri": "https://localhost:8080/",
          "height": 279
        },
        "outputId": "ceb2146b-1939-44dc-e19b-3894349cc31c"
      },
      "source": [
        "# plot the range\n",
        "learn.recorder.plot(skip_end=5)"
      ],
      "execution_count": null,
      "outputs": [
        {
          "output_type": "display_data",
          "data": {
            "image/png": "[encoded data removed]",
            "text/plain": [
              "<Figure size 432x288 with 1 Axes>"
            ]
          },
          "metadata": {
            "tags": [],
            "needs_background": "light"
          }
        }
      ]
    },
    {
      "cell_type": "code",
      "metadata": {
        "id": "uJP4HHPWYn8f",
        "colab_type": "code",
        "colab": {
          "base_uri": "https://localhost:8080/",
          "height": 80
        },
        "outputId": "a6aee619-e13f-4af1-89fd-51da0d75c44e"
      },
      "source": [
        "learn.fit_one_cycle(1, 1e-2, moms=(0.8,0.7))"
      ],
      "execution_count": null,
      "outputs": [
        {
          "output_type": "display_data",
          "data": {
            "text/html": [
              "<table border=\"1\" class=\"dataframe\">\n",
              "  <thead>\n",
              "    <tr style=\"text-align: left;\">\n",
              "      <th>epoch</th>\n",
              "      <th>train_loss</th>\n",
              "      <th>valid_loss</th>\n",
              "      <th>accuracy</th>\n",
              "      <th>time</th>\n",
              "    </tr>\n",
              "  </thead>\n",
              "  <tbody>\n",
              "    <tr>\n",
              "      <td>0</td>\n",
              "      <td>4.721487</td>\n",
              "      <td>4.074032</td>\n",
              "      <td>0.249895</td>\n",
              "      <td>00:07</td>\n",
              "    </tr>\n",
              "  </tbody>\n",
              "</table>"
            ],
            "text/plain": [
              "<IPython.core.display.HTML object>"
            ]
          },
          "metadata": {
            "tags": []
          }
        }
      ]
    },
    {
      "cell_type": "code",
      "metadata": {
        "id": "GqFvV4ZlYn8i",
        "colab_type": "code",
        "colab": {}
      },
      "source": [
        "learn.save('fit_head')"
      ],
      "execution_count": null,
      "outputs": []
    },
    {
      "cell_type": "code",
      "metadata": {
        "id": "YeTofS3UYn8l",
        "colab_type": "code",
        "colab": {}
      },
      "source": [
        "learn.load('fit_head');"
      ],
      "execution_count": null,
      "outputs": []
    },
    {
      "cell_type": "markdown",
      "metadata": {
        "id": "GYvSZYu4Yn8n",
        "colab_type": "text"
      },
      "source": [
        "Unfreeze the model and train further for fine-tuning."
      ]
    },
    {
      "cell_type": "code",
      "metadata": {
        "id": "kXZ6eEk_Yn8p",
        "colab_type": "code",
        "colab": {}
      },
      "source": [
        "# Set every layer group to trainable\n",
        "learn.unfreeze()"
      ],
      "execution_count": null,
      "outputs": []
    },
    {
      "cell_type": "markdown",
      "metadata": {
        "id": "pR8oh8z83IIA",
        "colab_type": "text"
      },
      "source": [
        "### Learning rate is critical.\n",
        "LR >> Validation Loss too High\n",
        "\n",
        "LR << Error Rate improves slowly, long time to train (refit) \n",
        "\n",
        "Epochs >> Overfit, ER too high\n",
        "\n",
        "Epochs << Training Loss more than Validation Loss, ER improves (refit)\n",
        "\n",
        "We use the fastai learning rate finder to glean a good starting point for a learning rate. Consider the point where the loss just begins to taper (slope)"
      ]
    },
    {
      "cell_type": "code",
      "metadata": {
        "id": "OwDgmIaXYn8s",
        "colab_type": "code",
        "colab": {
          "base_uri": "https://localhost:8080/",
          "height": 363
        },
        "outputId": "18ab9ee3-8ee5-4896-ce96-70be5120bfd5"
      },
      "source": [
        "learn.fit_one_cycle(10, 1e-3, moms=(0.8,0.7))"
      ],
      "execution_count": null,
      "outputs": [
        {
          "output_type": "display_data",
          "data": {
            "text/html": [
              "<table border=\"1\" class=\"dataframe\">\n",
              "  <thead>\n",
              "    <tr style=\"text-align: left;\">\n",
              "      <th>epoch</th>\n",
              "      <th>train_loss</th>\n",
              "      <th>valid_loss</th>\n",
              "      <th>accuracy</th>\n",
              "      <th>time</th>\n",
              "    </tr>\n",
              "  </thead>\n",
              "  <tbody>\n",
              "    <tr>\n",
              "      <td>0</td>\n",
              "      <td>4.002950</td>\n",
              "      <td>3.897451</td>\n",
              "      <td>0.274068</td>\n",
              "      <td>00:08</td>\n",
              "    </tr>\n",
              "    <tr>\n",
              "      <td>1</td>\n",
              "      <td>3.861327</td>\n",
              "      <td>3.762355</td>\n",
              "      <td>0.289076</td>\n",
              "      <td>00:08</td>\n",
              "    </tr>\n",
              "    <tr>\n",
              "      <td>2</td>\n",
              "      <td>3.706820</td>\n",
              "      <td>3.695446</td>\n",
              "      <td>0.297610</td>\n",
              "      <td>00:09</td>\n",
              "    </tr>\n",
              "    <tr>\n",
              "      <td>3</td>\n",
              "      <td>3.483981</td>\n",
              "      <td>3.664596</td>\n",
              "      <td>0.301064</td>\n",
              "      <td>00:09</td>\n",
              "    </tr>\n",
              "    <tr>\n",
              "      <td>4</td>\n",
              "      <td>3.237294</td>\n",
              "      <td>3.684798</td>\n",
              "      <td>0.300433</td>\n",
              "      <td>00:09</td>\n",
              "    </tr>\n",
              "    <tr>\n",
              "      <td>5</td>\n",
              "      <td>2.962875</td>\n",
              "      <td>3.743228</td>\n",
              "      <td>0.298004</td>\n",
              "      <td>00:09</td>\n",
              "    </tr>\n",
              "    <tr>\n",
              "      <td>6</td>\n",
              "      <td>2.700261</td>\n",
              "      <td>3.800833</td>\n",
              "      <td>0.295890</td>\n",
              "      <td>00:09</td>\n",
              "    </tr>\n",
              "    <tr>\n",
              "      <td>7</td>\n",
              "      <td>2.485629</td>\n",
              "      <td>3.876554</td>\n",
              "      <td>0.293015</td>\n",
              "      <td>00:09</td>\n",
              "    </tr>\n",
              "    <tr>\n",
              "      <td>8</td>\n",
              "      <td>2.336885</td>\n",
              "      <td>3.915147</td>\n",
              "      <td>0.291912</td>\n",
              "      <td>00:08</td>\n",
              "    </tr>\n",
              "    <tr>\n",
              "      <td>9</td>\n",
              "      <td>2.254760</td>\n",
              "      <td>3.926724</td>\n",
              "      <td>0.291268</td>\n",
              "      <td>00:09</td>\n",
              "    </tr>\n",
              "  </tbody>\n",
              "</table>"
            ],
            "text/plain": [
              "<IPython.core.display.HTML object>"
            ]
          },
          "metadata": {
            "tags": []
          }
        }
      ]
    },
    {
      "cell_type": "markdown",
      "metadata": {
        "id": "qFTxFN2mfBN_",
        "colab_type": "text"
      },
      "source": [
        "We get an accuracy of almost 29% which means our model is able to predict the next word in a sentence with a probability of 29%."
      ]
    },
    {
      "cell_type": "markdown",
      "metadata": {
        "id": "Y-048ul3Yn81",
        "colab_type": "text"
      },
      "source": [
        "We do a sanity check and see how good our model is by seeing what it predicts after a few given words"
      ]
    },
    {
      "cell_type": "code",
      "metadata": {
        "id": "eSGDHx8jYn84",
        "colab_type": "code",
        "colab": {}
      },
      "source": [
        "TEXT = \"I liked this airline because\"\n",
        "N_WORDS = 40\n",
        "N_SENTENCES = 2"
      ],
      "execution_count": null,
      "outputs": []
    },
    {
      "cell_type": "code",
      "metadata": {
        "id": "oZmWPmRJYn88",
        "colab_type": "code",
        "colab": {
          "base_uri": "https://localhost:8080/",
          "height": 74
        },
        "outputId": "4b7400bb-10ed-4b53-900c-a0b1c8e7e486"
      },
      "source": [
        "print(\"\\n\".join(learn.predict(TEXT, N_WORDS, temperature=0.75) for _ in range(N_SENTENCES)))"
      ],
      "execution_count": null,
      "outputs": [
        {
          "output_type": "stream",
          "text": [
            "I liked this airline because they are helpful and provide small services in my business . Too bad i love you xxbos @united i 'm flying home tonight , but i 've been stuck in Chicago with no gate agent yet , ca\n",
            "I liked this airline because of your planes ! Awesome ! Thank you ! xxbos @united i 'm talking about my Cancelled Flighted flight and the phone line . What gives ? xxbos @jetblue Thank you for the\n"
          ],
          "name": "stdout"
        }
      ]
    },
    {
      "cell_type": "markdown",
      "metadata": {
        "id": "ast5edo7Yn8_",
        "colab_type": "text"
      },
      "source": [
        "# Language Model Inference\n",
        "### When a given a simple sentence with just 5 words, the model is able to complete the sentence to the required number of words. \n",
        "\n",
        "### This sentence prediction seems grammatically very accurate with a good use of different parts of speech at the right places. However, the context does not make much sense right now.\n",
        "\n",
        "### We leverage this power to train our classifier model quite easily, as the model now just has to learn to associate a text to a particular label.\n",
        "\n"
      ]
    },
    {
      "cell_type": "code",
      "metadata": {
        "id": "ov1bkQHqYn9A",
        "colab_type": "code",
        "colab": {}
      },
      "source": [
        "# We save the model as well as its encoder, as this part is responsible for guessing the next word.\n",
        "learn.save_encoder('fine_tuned_enc')"
      ],
      "execution_count": null,
      "outputs": []
    },
    {
      "cell_type": "markdown",
      "metadata": {
        "id": "V_BSN3HaYn9C",
        "colab_type": "text"
      },
      "source": [
        "# Classifier Model"
      ]
    },
    {
      "cell_type": "markdown",
      "metadata": {
        "id": "Hb1r0oYAYn9D",
        "colab_type": "text"
      },
      "source": [
        "We create a new data object that grabs the labelled data and keeps those labels. We also use our vocabulary from the language model as we'll be loading the encoder."
      ]
    },
    {
      "cell_type": "code",
      "metadata": {
        "id": "zly9xn_3jlOU",
        "colab_type": "code",
        "colab": {
          "base_uri": "https://localhost:8080/",
          "height": 17
        },
        "outputId": "0d721b5d-b73a-4d43-d70d-f3f21dd0b23d"
      },
      "source": [
        "data_clas = TextClasDataBunch.from_csv(path, 'data.csv', vocab=data_lm.vocab) "
      ],
      "execution_count": null,
      "outputs": [
        {
          "output_type": "display_data",
          "data": {
            "text/html": [
              ""
            ],
            "text/plain": [
              "<IPython.core.display.HTML object>"
            ]
          },
          "metadata": {
            "tags": []
          }
        },
        {
          "output_type": "display_data",
          "data": {
            "text/html": [
              ""
            ],
            "text/plain": [
              "<IPython.core.display.HTML object>"
            ]
          },
          "metadata": {
            "tags": []
          }
        }
      ]
    },
    {
      "cell_type": "code",
      "metadata": {
        "id": "YJKjQa7VYn9U",
        "colab_type": "code",
        "colab": {
          "base_uri": "https://localhost:8080/",
          "height": 293
        },
        "outputId": "5c8d363e-b3e0-4db5-c2f1-53e2c4d80f86"
      },
      "source": [
        "data_clas.show_batch()"
      ],
      "execution_count": null,
      "outputs": [
        {
          "output_type": "display_data",
          "data": {
            "text/html": [
              "<table border=\"1\" class=\"dataframe\">\n",
              "  <thead>\n",
              "    <tr style=\"text-align: right;\">\n",
              "      <th>text</th>\n",
              "      <th>target</th>\n",
              "    </tr>\n",
              "  </thead>\n",
              "  <tbody>\n",
              "    <tr>\n",
              "      <td>xxbos @united xxmaj hi have a question re future xxmaj flight xxmaj booking xxmaj problems . xxup dub - xxup jac 29 / 9 xxup jac - xxup lax 8 / 10 xxup lax - xxup dub 13 / 10 . i 'm * xxup g. xxmaj what is checked bag xxunk for xxup jac - xxup lax ?</td>\n",
              "      <td>neutral</td>\n",
              "    </tr>\n",
              "    <tr>\n",
              "      <td>xxbos @southwestair xxmaj the xxmaj fact xxmaj that u xxmaj see xxmaj black xxmaj history xxmaj month 12 xxmaj months a xxmaj year xxmaj is xxmaj xxunk ! xxmaj we xxup will xxup be xxmaj an xxmaj xxunk xxmaj base xxmaj for xxmaj corp. xxmaj like u xxmaj in xxmaj future !</td>\n",
              "      <td>positive</td>\n",
              "    </tr>\n",
              "    <tr>\n",
              "      <td>xxbos @jetblue i ❤ ️ xxmaj jetblue but i was on flt xxunk from fll to sfo . xxunk off was over 1 hr xxmaj late xxmaj flight , div to phx &amp; &amp; got in 2 hrs xxmaj late xxmaj flight . xxmaj what will be done ?</td>\n",
              "      <td>negative</td>\n",
              "    </tr>\n",
              "    <tr>\n",
              "      <td>xxbos @united - xxup seriously it 's 2015 ? ! ? ! xxup no wifi on a 5hr flight from xxup cle - xxup sfo # xxunk . xxmaj you 're the xxup only airline w / out wifi ... and pls no ' xxunk ' xxup bs .</td>\n",
              "      <td>negative</td>\n",
              "    </tr>\n",
              "    <tr>\n",
              "      <td>xxbos @usairways yes , i am as well . * * xxup five * * xxup hours xxup on xxup hold , xxup folks . xxmaj can you xxup please tell me if this is typical ? ! xxmaj trying to be understanding here .</td>\n",
              "      <td>negative</td>\n",
              "    </tr>\n",
              "  </tbody>\n",
              "</table>"
            ],
            "text/plain": [
              "<IPython.core.display.HTML object>"
            ]
          },
          "metadata": {
            "tags": []
          }
        }
      ]
    },
    {
      "cell_type": "markdown",
      "metadata": {
        "id": "l3dxFtY94V78",
        "colab_type": "text"
      },
      "source": [
        "#Create Text Classification Model "
      ]
    },
    {
      "cell_type": "markdown",
      "metadata": {
        "id": "VlDkwL4MYn9g",
        "colab_type": "text"
      },
      "source": [
        "With our language model ready and the encoder saved, we can now create a text classification model, load in the encoder we saved before, and train the network.\n"
      ]
    },
    {
      "cell_type": "code",
      "metadata": {
        "id": "SUI9biDvYn9i",
        "colab_type": "code",
        "colab": {
          "base_uri": "https://localhost:8080/",
          "height": 1000
        },
        "outputId": "069e12d8-6c4c-4d60-d5ad-4ef1338255dc"
      },
      "source": [
        "learn = text_classifier_learner(data_clas, AWD_LSTM, drop_mult=0.3)\n",
        "\n",
        "learn.load_encoder('fine_tuned_enc')"
      ],
      "execution_count": null,
      "outputs": [
        {
          "output_type": "execute_result",
          "data": {
            "text/plain": [
              "RNNLearner(data=TextClasDataBunch;\n",
              "\n",
              "Train: LabelList (11711 items)\n",
              "x: TextList\n",
              "xxbos @united okay . xxmaj thanks .,xxbos @jetblue i will . i love flying with you all . xxmaj great service .,xxbos @southwestair xxmaj love xxmaj southwest . xxmaj you guys have been good to me ! http : / / t.co / xxunk,xxbos @united xxmaj never can get a flight out on time . 4 hour delay earlier another hour delay on my connecting flight . xxmaj makes 10 straight delays,xxbos @usairways @jack_kairys ( 2 / 2 ) and another sent him to the wrong line ... oh and the kiosks were n't working ! # thanks\n",
              "y: CategoryList\n",
              "neutral,positive,positive,negative,negative\n",
              "Path: .;\n",
              "\n",
              "Valid: LabelList (2929 items)\n",
              "x: TextList\n",
              "xxbos @united i flew back w other company since xxmaj united did nt have an earlier flight,xxbos @united tried to book a flight xxup iah - xxup xxunk departing 3 / 31 / 15 returning 4 / 17 / 15 you are advertising 9 flights for $ 1051 that ca n't be book !,xxbos @virginamerica requested window seat and confirmed window but got stuck in middle seat . xxmaj not a good way to treat silver member 😒,xxbos @jetblue xxunk well here we go,xxbos @jetblue they say they have no update . i do n't work i do n't get paid . xxmaj jet blue has my money but no flight . xxmaj xxunk !\n",
              "y: CategoryList\n",
              "negative,negative,negative,positive,negative\n",
              "Path: .;\n",
              "\n",
              "Test: None, model=SequentialRNN(\n",
              "  (0): MultiBatchEncoder(\n",
              "    (module): AWD_LSTM(\n",
              "      (encoder): Embedding(5872, 400, padding_idx=1)\n",
              "      (encoder_dp): EmbeddingDropout(\n",
              "        (emb): Embedding(5872, 400, padding_idx=1)\n",
              "      )\n",
              "      (rnns): ModuleList(\n",
              "        (0): WeightDropout(\n",
              "          (module): LSTM(400, 1152, batch_first=True)\n",
              "        )\n",
              "        (1): WeightDropout(\n",
              "          (module): LSTM(1152, 1152, batch_first=True)\n",
              "        )\n",
              "        (2): WeightDropout(\n",
              "          (module): LSTM(1152, 400, batch_first=True)\n",
              "        )\n",
              "      )\n",
              "      (input_dp): RNNDropout()\n",
              "      (hidden_dps): ModuleList(\n",
              "        (0): RNNDropout()\n",
              "        (1): RNNDropout()\n",
              "        (2): RNNDropout()\n",
              "      )\n",
              "    )\n",
              "  )\n",
              "  (1): PoolingLinearClassifier(\n",
              "    (layers): Sequential(\n",
              "      (0): BatchNorm1d(1200, eps=1e-05, momentum=0.1, affine=True, track_running_stats=True)\n",
              "      (1): Dropout(p=0.12, inplace=False)\n",
              "      (2): Linear(in_features=1200, out_features=50, bias=True)\n",
              "      (3): ReLU(inplace=True)\n",
              "      (4): BatchNorm1d(50, eps=1e-05, momentum=0.1, affine=True, track_running_stats=True)\n",
              "      (5): Dropout(p=0.1, inplace=False)\n",
              "      (6): Linear(in_features=50, out_features=3, bias=True)\n",
              "    )\n",
              "  )\n",
              "), opt_func=functools.partial(<class 'torch.optim.adam.Adam'>, betas=(0.9, 0.99)), loss_func=FlattenedLoss of CrossEntropyLoss(), metrics=[<function accuracy at 0x7f7b5e0cabf8>], true_wd=True, bn_wd=True, wd=0.01, train_bn=True, path=PosixPath('.'), model_dir='models', callback_fns=[functools.partial(<class 'fastai.basic_train.Recorder'>, add_time=True, silent=False)], callbacks=[RNNTrainer\n",
              "learn: RNNLearner(data=TextClasDataBunch;\n",
              "\n",
              "Train: LabelList (11711 items)\n",
              "x: TextList\n",
              "xxbos @united okay . xxmaj thanks .,xxbos @jetblue i will . i love flying with you all . xxmaj great service .,xxbos @southwestair xxmaj love xxmaj southwest . xxmaj you guys have been good to me ! http : / / t.co / xxunk,xxbos @united xxmaj never can get a flight out on time . 4 hour delay earlier another hour delay on my connecting flight . xxmaj makes 10 straight delays,xxbos @usairways @jack_kairys ( 2 / 2 ) and another sent him to the wrong line ... oh and the kiosks were n't working ! # thanks\n",
              "y: CategoryList\n",
              "neutral,positive,positive,negative,negative\n",
              "Path: .;\n",
              "\n",
              "Valid: LabelList (2929 items)\n",
              "x: TextList\n",
              "xxbos @united i flew back w other company since xxmaj united did nt have an earlier flight,xxbos @united tried to book a flight xxup iah - xxup xxunk departing 3 / 31 / 15 returning 4 / 17 / 15 you are advertising 9 flights for $ 1051 that ca n't be book !,xxbos @virginamerica requested window seat and confirmed window but got stuck in middle seat . xxmaj not a good way to treat silver member 😒,xxbos @jetblue xxunk well here we go,xxbos @jetblue they say they have no update . i do n't work i do n't get paid . xxmaj jet blue has my money but no flight . xxmaj xxunk !\n",
              "y: CategoryList\n",
              "negative,negative,negative,positive,negative\n",
              "Path: .;\n",
              "\n",
              "Test: None, model=SequentialRNN(\n",
              "  (0): MultiBatchEncoder(\n",
              "    (module): AWD_LSTM(\n",
              "      (encoder): Embedding(5872, 400, padding_idx=1)\n",
              "      (encoder_dp): EmbeddingDropout(\n",
              "        (emb): Embedding(5872, 400, padding_idx=1)\n",
              "      )\n",
              "      (rnns): ModuleList(\n",
              "        (0): WeightDropout(\n",
              "          (module): LSTM(400, 1152, batch_first=True)\n",
              "        )\n",
              "        (1): WeightDropout(\n",
              "          (module): LSTM(1152, 1152, batch_first=True)\n",
              "        )\n",
              "        (2): WeightDropout(\n",
              "          (module): LSTM(1152, 400, batch_first=True)\n",
              "        )\n",
              "      )\n",
              "      (input_dp): RNNDropout()\n",
              "      (hidden_dps): ModuleList(\n",
              "        (0): RNNDropout()\n",
              "        (1): RNNDropout()\n",
              "        (2): RNNDropout()\n",
              "      )\n",
              "    )\n",
              "  )\n",
              "  (1): PoolingLinearClassifier(\n",
              "    (layers): Sequential(\n",
              "      (0): BatchNorm1d(1200, eps=1e-05, momentum=0.1, affine=True, track_running_stats=True)\n",
              "      (1): Dropout(p=0.12, inplace=False)\n",
              "      (2): Linear(in_features=1200, out_features=50, bias=True)\n",
              "      (3): ReLU(inplace=True)\n",
              "      (4): BatchNorm1d(50, eps=1e-05, momentum=0.1, affine=True, track_running_stats=True)\n",
              "      (5): Dropout(p=0.1, inplace=False)\n",
              "      (6): Linear(in_features=50, out_features=3, bias=True)\n",
              "    )\n",
              "  )\n",
              "), opt_func=functools.partial(<class 'torch.optim.adam.Adam'>, betas=(0.9, 0.99)), loss_func=FlattenedLoss of CrossEntropyLoss(), metrics=[<function accuracy at 0x7f7b5e0cabf8>], true_wd=True, bn_wd=True, wd=0.01, train_bn=True, path=PosixPath('.'), model_dir='models', callback_fns=[functools.partial(<class 'fastai.basic_train.Recorder'>, add_time=True, silent=False)], callbacks=[...], layer_groups=[Sequential(\n",
              "  (0): Embedding(5872, 400, padding_idx=1)\n",
              "  (1): EmbeddingDropout(\n",
              "    (emb): Embedding(5872, 400, padding_idx=1)\n",
              "  )\n",
              "), Sequential(\n",
              "  (0): WeightDropout(\n",
              "    (module): LSTM(400, 1152, batch_first=True)\n",
              "  )\n",
              "  (1): RNNDropout()\n",
              "), Sequential(\n",
              "  (0): WeightDropout(\n",
              "    (module): LSTM(1152, 1152, batch_first=True)\n",
              "  )\n",
              "  (1): RNNDropout()\n",
              "), Sequential(\n",
              "  (0): WeightDropout(\n",
              "    (module): LSTM(1152, 400, batch_first=True)\n",
              "  )\n",
              "  (1): RNNDropout()\n",
              "), Sequential(\n",
              "  (0): PoolingLinearClassifier(\n",
              "    (layers): Sequential(\n",
              "      (0): BatchNorm1d(1200, eps=1e-05, momentum=0.1, affine=True, track_running_stats=True)\n",
              "      (1): Dropout(p=0.12, inplace=False)\n",
              "      (2): Linear(in_features=1200, out_features=50, bias=True)\n",
              "      (3): ReLU(inplace=True)\n",
              "      (4): BatchNorm1d(50, eps=1e-05, momentum=0.1, affine=True, track_running_stats=True)\n",
              "      (5): Dropout(p=0.1, inplace=False)\n",
              "      (6): Linear(in_features=50, out_features=3, bias=True)\n",
              "    )\n",
              "  )\n",
              ")], add_time=True, silent=False)\n",
              "alpha: 2.0\n",
              "beta: 1.0], layer_groups=[Sequential(\n",
              "  (0): Embedding(5872, 400, padding_idx=1)\n",
              "  (1): EmbeddingDropout(\n",
              "    (emb): Embedding(5872, 400, padding_idx=1)\n",
              "  )\n",
              "), Sequential(\n",
              "  (0): WeightDropout(\n",
              "    (module): LSTM(400, 1152, batch_first=True)\n",
              "  )\n",
              "  (1): RNNDropout()\n",
              "), Sequential(\n",
              "  (0): WeightDropout(\n",
              "    (module): LSTM(1152, 1152, batch_first=True)\n",
              "  )\n",
              "  (1): RNNDropout()\n",
              "), Sequential(\n",
              "  (0): WeightDropout(\n",
              "    (module): LSTM(1152, 400, batch_first=True)\n",
              "  )\n",
              "  (1): RNNDropout()\n",
              "), Sequential(\n",
              "  (0): PoolingLinearClassifier(\n",
              "    (layers): Sequential(\n",
              "      (0): BatchNorm1d(1200, eps=1e-05, momentum=0.1, affine=True, track_running_stats=True)\n",
              "      (1): Dropout(p=0.12, inplace=False)\n",
              "      (2): Linear(in_features=1200, out_features=50, bias=True)\n",
              "      (3): ReLU(inplace=True)\n",
              "      (4): BatchNorm1d(50, eps=1e-05, momentum=0.1, affine=True, track_running_stats=True)\n",
              "      (5): Dropout(p=0.1, inplace=False)\n",
              "      (6): Linear(in_features=50, out_features=3, bias=True)\n",
              "    )\n",
              "  )\n",
              ")], add_time=True, silent=False)"
            ]
          },
          "metadata": {
            "tags": []
          },
          "execution_count": 32
        }
      ]
    },
    {
      "cell_type": "code",
      "metadata": {
        "id": "_Q0nFopbYn9k",
        "colab_type": "code",
        "colab": {
          "base_uri": "https://localhost:8080/",
          "height": 114
        },
        "outputId": "3cc622c0-2736-46f9-f8a2-c43ad0cfcce9"
      },
      "source": [
        "learn.lr_find()"
      ],
      "execution_count": null,
      "outputs": [
        {
          "output_type": "display_data",
          "data": {
            "text/html": [
              "\n",
              "    <div>\n",
              "        <style>\n",
              "            /* Turns off some styling */\n",
              "            progress {\n",
              "                /* gets rid of default border in Firefox and Opera. */\n",
              "                border: none;\n",
              "                /* Needs to be in here for Safari polyfill so background images work as expected. */\n",
              "                background-size: auto;\n",
              "            }\n",
              "            .progress-bar-interrupted, .progress-bar-interrupted::-webkit-progress-bar {\n",
              "                background: #F44336;\n",
              "            }\n",
              "        </style>\n",
              "      <progress value='0' class='' max='1' style='width:300px; height:20px; vertical-align: middle;'></progress>\n",
              "      0.00% [0/1 00:00<00:00]\n",
              "    </div>\n",
              "    \n",
              "<table border=\"1\" class=\"dataframe\">\n",
              "  <thead>\n",
              "    <tr style=\"text-align: left;\">\n",
              "      <th>epoch</th>\n",
              "      <th>train_loss</th>\n",
              "      <th>valid_loss</th>\n",
              "      <th>accuracy</th>\n",
              "      <th>time</th>\n",
              "    </tr>\n",
              "  </thead>\n",
              "  <tbody>\n",
              "  </tbody>\n",
              "</table><p>\n",
              "\n",
              "    <div>\n",
              "        <style>\n",
              "            /* Turns off some styling */\n",
              "            progress {\n",
              "                /* gets rid of default border in Firefox and Opera. */\n",
              "                border: none;\n",
              "                /* Needs to be in here for Safari polyfill so background images work as expected. */\n",
              "                background-size: auto;\n",
              "            }\n",
              "            .progress-bar-interrupted, .progress-bar-interrupted::-webkit-progress-bar {\n",
              "                background: #F44336;\n",
              "            }\n",
              "        </style>\n",
              "      <progress value='91' class='' max='182' style='width:300px; height:20px; vertical-align: middle;'></progress>\n",
              "      50.00% [91/182 00:02<00:02 1.5154]\n",
              "    </div>\n",
              "    "
            ],
            "text/plain": [
              "<IPython.core.display.HTML object>"
            ]
          },
          "metadata": {
            "tags": []
          }
        },
        {
          "output_type": "stream",
          "text": [
            "LR Finder is complete, type {learner_name}.recorder.plot() to see the graph.\n"
          ],
          "name": "stdout"
        }
      ]
    },
    {
      "cell_type": "code",
      "metadata": {
        "id": "7X7Y9KwVYn9m",
        "colab_type": "code",
        "colab": {
          "base_uri": "https://localhost:8080/",
          "height": 279
        },
        "outputId": "4a306fe6-c2ec-4cd8-fe2f-e83bac9be0bc"
      },
      "source": [
        "learn.recorder.plot()"
      ],
      "execution_count": null,
      "outputs": [
        {
          "output_type": "display_data",
          "data": {
            "image/png": "[encoded data removed]",
            "text/plain": [
              "<Figure size 432x288 with 1 Axes>"
            ]
          },
          "metadata": {
            "tags": [],
            "needs_background": "light"
          }
        }
      ]
    },
    {
      "cell_type": "code",
      "metadata": {
        "id": "vg6ZTlgUYn9n",
        "colab_type": "code",
        "colab": {
          "base_uri": "https://localhost:8080/",
          "height": 112
        },
        "outputId": "af0c5c4a-c1c3-4d90-972b-4fea3a8b9fad"
      },
      "source": [
        "learn.fit_one_cycle(2, 1e-2, moms=(0.8,0.7))"
      ],
      "execution_count": null,
      "outputs": [
        {
          "output_type": "display_data",
          "data": {
            "text/html": [
              "<table border=\"1\" class=\"dataframe\">\n",
              "  <thead>\n",
              "    <tr style=\"text-align: left;\">\n",
              "      <th>epoch</th>\n",
              "      <th>train_loss</th>\n",
              "      <th>valid_loss</th>\n",
              "      <th>accuracy</th>\n",
              "      <th>time</th>\n",
              "    </tr>\n",
              "  </thead>\n",
              "  <tbody>\n",
              "    <tr>\n",
              "      <td>0</td>\n",
              "      <td>0.667757</td>\n",
              "      <td>0.523368</td>\n",
              "      <td>0.790714</td>\n",
              "      <td>00:05</td>\n",
              "    </tr>\n",
              "    <tr>\n",
              "      <td>1</td>\n",
              "      <td>0.582983</td>\n",
              "      <td>0.534837</td>\n",
              "      <td>0.794128</td>\n",
              "      <td>00:05</td>\n",
              "    </tr>\n",
              "  </tbody>\n",
              "</table>"
            ],
            "text/plain": [
              "<IPython.core.display.HTML object>"
            ]
          },
          "metadata": {
            "tags": []
          }
        }
      ]
    },
    {
      "cell_type": "markdown",
      "metadata": {
        "id": "7ASn8exA0e-q",
        "colab_type": "text"
      },
      "source": [
        "## Fine-tuning model"
      ]
    },
    {
      "cell_type": "markdown",
      "metadata": {
        "id": "pxZmrqaCd4lE",
        "colab_type": "text"
      },
      "source": [
        "We unfreeze the model layer by layer for better fine-tuning.\n",
        "\n",
        "*Note*: Here I tried several options and the default Fast.ai Divisor 10, but I also found a Hyper Parameter divisor which seems to have worked well for others in the community. I tried the same and it worked well in this case too, hence I decided to use 2.6**4 as my divisor"
      ]
    },
    {
      "cell_type": "code",
      "metadata": {
        "id": "n5VNZYm-Yn9y",
        "colab_type": "code",
        "colab": {
          "base_uri": "https://localhost:8080/",
          "height": 112
        },
        "outputId": "f0ff2a31-21c0-487e-8e3c-1a92ff2ceae1"
      },
      "source": [
        "learn.freeze_to(-2)\n",
        "learn.fit_one_cycle(2, slice(1e-2/(2.6**4),1e-2), moms=(0.8,0.7))"
      ],
      "execution_count": null,
      "outputs": [
        {
          "output_type": "display_data",
          "data": {
            "text/html": [
              "<table border=\"1\" class=\"dataframe\">\n",
              "  <thead>\n",
              "    <tr style=\"text-align: left;\">\n",
              "      <th>epoch</th>\n",
              "      <th>train_loss</th>\n",
              "      <th>valid_loss</th>\n",
              "      <th>accuracy</th>\n",
              "      <th>time</th>\n",
              "    </tr>\n",
              "  </thead>\n",
              "  <tbody>\n",
              "    <tr>\n",
              "      <td>0</td>\n",
              "      <td>0.590327</td>\n",
              "      <td>0.509854</td>\n",
              "      <td>0.803687</td>\n",
              "      <td>00:06</td>\n",
              "    </tr>\n",
              "    <tr>\n",
              "      <td>1</td>\n",
              "      <td>0.498216</td>\n",
              "      <td>0.476655</td>\n",
              "      <td>0.816661</td>\n",
              "      <td>00:06</td>\n",
              "    </tr>\n",
              "  </tbody>\n",
              "</table>"
            ],
            "text/plain": [
              "<IPython.core.display.HTML object>"
            ]
          },
          "metadata": {
            "tags": []
          }
        }
      ]
    },
    {
      "cell_type": "code",
      "metadata": {
        "id": "NzpLx66_Yn96",
        "colab_type": "code",
        "colab": {
          "base_uri": "https://localhost:8080/",
          "height": 112
        },
        "outputId": "bb05ba4a-9116-495d-ab0f-d736cbd4c7e1"
      },
      "source": [
        "learn.freeze_to(-3)\n",
        "learn.fit_one_cycle(2, slice(5e-3/(2.6**4),5e-3), moms=(0.8,0.7))"
      ],
      "execution_count": null,
      "outputs": [
        {
          "output_type": "display_data",
          "data": {
            "text/html": [
              "<table border=\"1\" class=\"dataframe\">\n",
              "  <thead>\n",
              "    <tr style=\"text-align: left;\">\n",
              "      <th>epoch</th>\n",
              "      <th>train_loss</th>\n",
              "      <th>valid_loss</th>\n",
              "      <th>accuracy</th>\n",
              "      <th>time</th>\n",
              "    </tr>\n",
              "  </thead>\n",
              "  <tbody>\n",
              "    <tr>\n",
              "      <td>0</td>\n",
              "      <td>0.491309</td>\n",
              "      <td>0.473672</td>\n",
              "      <td>0.820075</td>\n",
              "      <td>00:09</td>\n",
              "    </tr>\n",
              "    <tr>\n",
              "      <td>1</td>\n",
              "      <td>0.339011</td>\n",
              "      <td>0.509069</td>\n",
              "      <td>0.824172</td>\n",
              "      <td>00:08</td>\n",
              "    </tr>\n",
              "  </tbody>\n",
              "</table>"
            ],
            "text/plain": [
              "<IPython.core.display.HTML object>"
            ]
          },
          "metadata": {
            "tags": []
          }
        }
      ]
    },
    {
      "cell_type": "markdown",
      "metadata": {
        "id": "zTPu7yH6eWja",
        "colab_type": "text"
      },
      "source": [
        "We unfreeze the model completely and train."
      ]
    },
    {
      "cell_type": "code",
      "metadata": {
        "id": "AxWMYdXTYn-F",
        "colab_type": "code",
        "colab": {
          "base_uri": "https://localhost:8080/",
          "height": 206
        },
        "outputId": "ee73d160-2028-4371-88dc-c1154d5ec73d"
      },
      "source": [
        "learn.unfreeze()\n",
        "learn.fit_one_cycle(5, slice(1e-3/(2.6**4),1e-3), moms=(0.8,0.7))"
      ],
      "execution_count": null,
      "outputs": [
        {
          "output_type": "display_data",
          "data": {
            "text/html": [
              "<table border=\"1\" class=\"dataframe\">\n",
              "  <thead>\n",
              "    <tr style=\"text-align: left;\">\n",
              "      <th>epoch</th>\n",
              "      <th>train_loss</th>\n",
              "      <th>valid_loss</th>\n",
              "      <th>accuracy</th>\n",
              "      <th>time</th>\n",
              "    </tr>\n",
              "  </thead>\n",
              "  <tbody>\n",
              "    <tr>\n",
              "      <td>0</td>\n",
              "      <td>0.262461</td>\n",
              "      <td>0.519975</td>\n",
              "      <td>0.827245</td>\n",
              "      <td>00:11</td>\n",
              "    </tr>\n",
              "    <tr>\n",
              "      <td>1</td>\n",
              "      <td>0.227206</td>\n",
              "      <td>0.556426</td>\n",
              "      <td>0.811540</td>\n",
              "      <td>00:11</td>\n",
              "    </tr>\n",
              "    <tr>\n",
              "      <td>2</td>\n",
              "      <td>0.164258</td>\n",
              "      <td>0.602784</td>\n",
              "      <td>0.817685</td>\n",
              "      <td>00:11</td>\n",
              "    </tr>\n",
              "    <tr>\n",
              "      <td>3</td>\n",
              "      <td>0.141637</td>\n",
              "      <td>0.620743</td>\n",
              "      <td>0.818027</td>\n",
              "      <td>00:11</td>\n",
              "    </tr>\n",
              "    <tr>\n",
              "      <td>4</td>\n",
              "      <td>0.126593</td>\n",
              "      <td>0.621162</td>\n",
              "      <td>0.818368</td>\n",
              "      <td>00:11</td>\n",
              "    </tr>\n",
              "  </tbody>\n",
              "</table>"
            ],
            "text/plain": [
              "<IPython.core.display.HTML object>"
            ]
          },
          "metadata": {
            "tags": []
          }
        }
      ]
    },
    {
      "cell_type": "markdown",
      "metadata": {
        "id": "Y46K8t9LfQUq",
        "colab_type": "text"
      },
      "source": [
        "## Final Accuracy - **82.7%** "
      ]
    },
    {
      "cell_type": "markdown",
      "metadata": {
        "id": "XVlaFKlk7GDy",
        "colab_type": "text"
      },
      "source": [
        "As such, we can improve the model by playing with the hyper parameters. However, I decided to stop here I observed that the Accuracy was falling after more epochs. We also see the Error Rate increases as the epochs increase, which could suggest overfit, however, in this case it does not change but remains fairly constant. This means overfitting is not really an issue, keeing in mind the inbuilt regularization of the AWD-LSTM model "
      ]
    },
    {
      "cell_type": "markdown",
      "metadata": {
        "id": "bx3wWWkjGI2V",
        "colab_type": "text"
      },
      "source": [
        "# Model Evaluation"
      ]
    },
    {
      "cell_type": "code",
      "metadata": {
        "id": "wG_tAsGN_3fd",
        "colab_type": "code",
        "colab": {
          "base_uri": "https://localhost:8080/",
          "height": 17
        },
        "outputId": "b8abdec8-ab24-4b87-d327-1b760ee89f27"
      },
      "source": [
        "interp = TextClassificationInterpretation.from_learner(learn) "
      ],
      "execution_count": null,
      "outputs": [
        {
          "output_type": "display_data",
          "data": {
            "text/html": [
              ""
            ],
            "text/plain": [
              "<IPython.core.display.HTML object>"
            ]
          },
          "metadata": {
            "tags": []
          }
        }
      ]
    },
    {
      "cell_type": "code",
      "metadata": {
        "id": "0lC-vj_MAE2p",
        "colab_type": "code",
        "colab": {
          "base_uri": "https://localhost:8080/",
          "height": 430
        },
        "outputId": "be93b095-3765-4dd1-fd66-94e8faaea5cd"
      },
      "source": [
        "for i in range(5):\n",
        "  x = interp.show_intrinsic_attention(df.loc[i])\n",
        "  print(x)"
      ],
      "execution_count": null,
      "outputs": [
        {
          "output_type": "stream",
          "text": [
            "/pytorch/aten/src/ATen/native/cuda/LegacyDefinitions.cpp:19: UserWarning: masked_fill_ received a mask with dtype torch.uint8, this behavior is now deprecated,please use a mask with dtype torch.bool instead.\n",
            "/pytorch/aten/src/ATen/native/cuda/LegacyDefinitions.cpp:19: UserWarning: masked_fill_ received a mask with dtype torch.uint8, this behavior is now deprecated,please use a mask with dtype torch.bool instead.\n"
          ],
          "name": "stderr"
        },
        {
          "output_type": "display_data",
          "data": {
            "text/html": [
              "<span style=\"font-family: monospace;\"><span title=\"0.117\" style=\"background-color: rgba(220, 58, 43, 0.5);\">xxbos</span> <span title=\"0.203\" style=\"background-color: rgba(244, 109, 67, 0.5);\">xxunk</span> <span title=\"1.000\" style=\"background-color: rgba(0, 104, 55, 0.5);\">@virginamerica</span> <span title=\"0.138\" style=\"background-color: rgba(225, 70, 49, 0.5);\">xxmaj</span> <span title=\"0.557\" style=\"background-color: rgba(233, 245, 161, 0.5);\">what</span> <span title=\"0.509\" style=\"background-color: rgba(251, 253, 185, 0.5);\">xxunk</span> <span title=\"0.547\" style=\"background-color: rgba(236, 247, 165, 0.5);\">said</span> <span title=\"0.223\" style=\"background-color: rgba(246, 124, 74, 0.5);\">.</span></span>"
            ],
            "text/plain": [
              "<IPython.core.display.HTML object>"
            ]
          },
          "metadata": {
            "tags": []
          }
        },
        {
          "output_type": "stream",
          "text": [
            "None\n"
          ],
          "name": "stdout"
        },
        {
          "output_type": "stream",
          "text": [
            "/pytorch/aten/src/ATen/native/cuda/LegacyDefinitions.cpp:19: UserWarning: masked_fill_ received a mask with dtype torch.uint8, this behavior is now deprecated,please use a mask with dtype torch.bool instead.\n",
            "/pytorch/aten/src/ATen/native/cuda/LegacyDefinitions.cpp:19: UserWarning: masked_fill_ received a mask with dtype torch.uint8, this behavior is now deprecated,please use a mask with dtype torch.bool instead.\n"
          ],
          "name": "stderr"
        },
        {
          "output_type": "display_data",
          "data": {
            "text/html": [
              "<span style=\"font-family: monospace;\"><span title=\"0.120\" style=\"background-color: rgba(220, 58, 43, 0.5);\">xxbos</span> <span title=\"0.333\" style=\"background-color: rgba(253, 190, 110, 0.5);\">positive</span> <span title=\"0.846\" style=\"background-color: rgba(66, 171, 90, 0.5);\">@virginamerica</span> <span title=\"0.671\" style=\"background-color: rgba(181, 223, 115, 0.5);\">plus</span> <span title=\"0.338\" style=\"background-color: rgba(253, 192, 112, 0.5);\">you</span> <span title=\"0.695\" style=\"background-color: rgba(169, 218, 107, 0.5);\">&#x27;ve</span> <span title=\"0.542\" style=\"background-color: rgba(239, 248, 169, 0.5);\">added</span> <span title=\"1.000\" style=\"background-color: rgba(0, 104, 55, 0.5);\">commercials</span> <span title=\"0.174\" style=\"background-color: rgba(236, 92, 59, 0.5);\">to</span> <span title=\"0.109\" style=\"background-color: rgba(216, 51, 40, 0.5);\">the</span> <span title=\"0.209\" style=\"background-color: rgba(244, 114, 69, 0.5);\">experience</span> <span title=\"0.261\" style=\"background-color: rgba(249, 147, 84, 0.5);\">...</span> <span title=\"0.297\" style=\"background-color: rgba(252, 172, 96, 0.5);\">xxunk</span> <span title=\"0.130\" style=\"background-color: rgba(223, 65, 47, 0.5);\">.</span></span>"
            ],
            "text/plain": [
              "<IPython.core.display.HTML object>"
            ]
          },
          "metadata": {
            "tags": []
          }
        },
        {
          "output_type": "stream",
          "text": [
            "None\n"
          ],
          "name": "stdout"
        },
        {
          "output_type": "stream",
          "text": [
            "/pytorch/aten/src/ATen/native/cuda/LegacyDefinitions.cpp:19: UserWarning: masked_fill_ received a mask with dtype torch.uint8, this behavior is now deprecated,please use a mask with dtype torch.bool instead.\n",
            "/pytorch/aten/src/ATen/native/cuda/LegacyDefinitions.cpp:19: UserWarning: masked_fill_ received a mask with dtype torch.uint8, this behavior is now deprecated,please use a mask with dtype torch.bool instead.\n"
          ],
          "name": "stderr"
        },
        {
          "output_type": "display_data",
          "data": {
            "text/html": [
              "<span style=\"font-family: monospace;\"><span title=\"0.134\" style=\"background-color: rgba(224, 68, 48, 0.5);\">xxbos</span> <span title=\"0.213\" style=\"background-color: rgba(245, 116, 70, 0.5);\">xxunk</span> <span title=\"0.956\" style=\"background-color: rgba(11, 124, 65, 0.5);\">@virginamerica</span> <span title=\"0.280\" style=\"background-color: rgba(251, 159, 90, 0.5);\">i</span> <span title=\"0.531\" style=\"background-color: rgba(243, 250, 175, 0.5);\">did</span> <span title=\"0.579\" style=\"background-color: rgba(224, 242, 149, 0.5);\">n&#x27;t</span> <span title=\"0.366\" style=\"background-color: rgba(253, 206, 124, 0.5);\">today</span> <span title=\"0.393\" style=\"background-color: rgba(253, 220, 135, 0.5);\">...</span> <span title=\"0.246\" style=\"background-color: rgba(248, 139, 81, 0.5);\">xxmaj</span> <span title=\"1.000\" style=\"background-color: rgba(0, 104, 55, 0.5);\">must</span> <span title=\"0.607\" style=\"background-color: rgba(213, 237, 136, 0.5);\">mean</span> <span title=\"0.289\" style=\"background-color: rgba(252, 167, 94, 0.5);\">i</span> <span title=\"0.630\" style=\"background-color: rgba(201, 232, 128, 0.5);\">need</span> <span title=\"0.241\" style=\"background-color: rgba(247, 134, 78, 0.5);\">to</span> <span title=\"0.791\" style=\"background-color: rgba(107, 191, 99, 0.5);\">take</span> <span title=\"0.488\" style=\"background-color: rgba(254, 250, 183, 0.5);\">another</span> <span title=\"0.925\" style=\"background-color: rgba(19, 139, 73, 0.5);\">trip</span> <span title=\"0.936\" style=\"background-color: rgba(16, 134, 70, 0.5);\">!</span></span>"
            ],
            "text/plain": [
              "<IPython.core.display.HTML object>"
            ]
          },
          "metadata": {
            "tags": []
          }
        },
        {
          "output_type": "stream",
          "text": [
            "None\n"
          ],
          "name": "stdout"
        },
        {
          "output_type": "stream",
          "text": [
            "/pytorch/aten/src/ATen/native/cuda/LegacyDefinitions.cpp:19: UserWarning: masked_fill_ received a mask with dtype torch.uint8, this behavior is now deprecated,please use a mask with dtype torch.bool instead.\n",
            "/pytorch/aten/src/ATen/native/cuda/LegacyDefinitions.cpp:19: UserWarning: masked_fill_ received a mask with dtype torch.uint8, this behavior is now deprecated,please use a mask with dtype torch.bool instead.\n"
          ],
          "name": "stderr"
        },
        {
          "output_type": "display_data",
          "data": {
            "text/html": [
              "<span style=\"font-family: monospace;\"><span title=\"0.079\" style=\"background-color: rgba(204, 37, 38, 0.5);\">xxbos</span> <span title=\"0.235\" style=\"background-color: rgba(247, 131, 77, 0.5);\">negative</span> <span title=\"0.560\" style=\"background-color: rgba(231, 245, 159, 0.5);\">@virginamerica</span> <span title=\"0.186\" style=\"background-color: rgba(239, 99, 62, 0.5);\">it</span> <span title=\"0.173\" style=\"background-color: rgba(236, 92, 59, 0.5);\">&#x27;s</span> <span title=\"0.447\" style=\"background-color: rgba(254, 238, 163, 0.5);\">really</span> <span title=\"1.000\" style=\"background-color: rgba(0, 104, 55, 0.5);\">aggressive</span> <span title=\"0.204\" style=\"background-color: rgba(244, 111, 68, 0.5);\">to</span> <span title=\"0.971\" style=\"background-color: rgba(7, 117, 61, 0.5);\">blast</span> <span title=\"0.193\" style=\"background-color: rgba(241, 104, 64, 0.5);\">xxunk</span> <span title=\"0.136\" style=\"background-color: rgba(224, 68, 48, 0.5);\">&quot;</span> <span title=\"0.489\" style=\"background-color: rgba(254, 251, 185, 0.5);\">entertainment</span> <span title=\"0.121\" style=\"background-color: rgba(221, 61, 45, 0.5);\">&quot;</span> <span title=\"0.153\" style=\"background-color: rgba(230, 80, 53, 0.5);\">in</span> <span title=\"0.257\" style=\"background-color: rgba(248, 144, 83, 0.5);\">your</span> <span title=\"0.457\" style=\"background-color: rgba(254, 242, 169, 0.5);\">guests</span> <span title=\"0.184\" style=\"background-color: rgba(239, 99, 62, 0.5);\">&#x27;</span> <span title=\"0.419\" style=\"background-color: rgba(254, 230, 149, 0.5);\">faces</span> <span title=\"0.364\" style=\"background-color: rgba(253, 206, 124, 0.5);\">&amp;</span> <span title=\"0.123\" style=\"background-color: rgba(221, 61, 45, 0.5);\">&amp;</span> <span title=\"0.174\" style=\"background-color: rgba(236, 92, 59, 0.5);\">they</span> <span title=\"0.217\" style=\"background-color: rgba(245, 119, 71, 0.5);\">have</span> <span title=\"0.553\" style=\"background-color: rgba(234, 246, 163, 0.5);\">little</span> <span title=\"0.842\" style=\"background-color: rgba(69, 173, 90, 0.5);\">recourse</span></span>"
            ],
            "text/plain": [
              "<IPython.core.display.HTML object>"
            ]
          },
          "metadata": {
            "tags": []
          }
        },
        {
          "output_type": "stream",
          "text": [
            "None\n"
          ],
          "name": "stdout"
        },
        {
          "output_type": "stream",
          "text": [
            "/pytorch/aten/src/ATen/native/cuda/LegacyDefinitions.cpp:19: UserWarning: masked_fill_ received a mask with dtype torch.uint8, this behavior is now deprecated,please use a mask with dtype torch.bool instead.\n",
            "/pytorch/aten/src/ATen/native/cuda/LegacyDefinitions.cpp:19: UserWarning: masked_fill_ received a mask with dtype torch.uint8, this behavior is now deprecated,please use a mask with dtype torch.bool instead.\n"
          ],
          "name": "stderr"
        },
        {
          "output_type": "display_data",
          "data": {
            "text/html": [
              "<span style=\"font-family: monospace;\"><span title=\"0.139\" style=\"background-color: rgba(225, 70, 49, 0.5);\">xxbos</span> <span title=\"0.388\" style=\"background-color: rgba(253, 218, 134, 0.5);\">negative</span> <span title=\"0.889\" style=\"background-color: rgba(33, 155, 81, 0.5);\">@virginamerica</span> <span title=\"0.193\" style=\"background-color: rgba(241, 104, 64, 0.5);\">and</span> <span title=\"0.295\" style=\"background-color: rgba(252, 170, 95, 0.5);\">it</span> <span title=\"0.325\" style=\"background-color: rgba(253, 186, 107, 0.5);\">&#x27;s</span> <span title=\"0.349\" style=\"background-color: rgba(253, 198, 117, 0.5);\">a</span> <span title=\"0.987\" style=\"background-color: rgba(3, 109, 57, 0.5);\">really</span> <span title=\"1.000\" style=\"background-color: rgba(0, 104, 55, 0.5);\">big</span> <span title=\"0.725\" style=\"background-color: rgba(149, 209, 104, 0.5);\">bad</span> <span title=\"0.603\" style=\"background-color: rgba(215, 238, 137, 0.5);\">thing</span> <span title=\"0.502\" style=\"background-color: rgba(254, 254, 189, 0.5);\">about</span> <span title=\"0.222\" style=\"background-color: rgba(245, 121, 72, 0.5);\">it</span></span>"
            ],
            "text/plain": [
              "<IPython.core.display.HTML object>"
            ]
          },
          "metadata": {
            "tags": []
          }
        },
        {
          "output_type": "stream",
          "text": [
            "None\n"
          ],
          "name": "stdout"
        }
      ]
    },
    {
      "cell_type": "markdown",
      "metadata": {
        "id": "BYk3kMzEC4fn",
        "colab_type": "text"
      },
      "source": [
        "The colors show how the model is interpreting the ingest data. The model assigns weights ranging from -1 to 1 corresponding to different colors.\n",
        "e.g. Model assigns similar context to all text having same color, and gives relative importance to the darker shaded text when interpreting data \n",
        "\n",
        "Green - The attention colors show that nouns and adjectives like '@virginamerica', 'commericial', 'big', 'trip' have similar weights. It also captures relevant some short verbs like 'did not', 'blast', 'take' in lighter colors.\n",
        "\n",
        "Red - The fastai special tokens have similar weights. Also, some verbs like 'have', 'it is' and smaller words like 'your', 'and, 'it' take lighter colors.\n",
        "\n",
        "\n"
      ]
    },
    {
      "cell_type": "markdown",
      "metadata": {
        "id": "GC5KeJNjeg-x",
        "colab_type": "text"
      },
      "source": [
        "# Model Prediction"
      ]
    },
    {
      "cell_type": "markdown",
      "metadata": {
        "id": "KAtbsRKgeaSY",
        "colab_type": "text"
      },
      "source": [
        "We run the model prediction on some sample tweets."
      ]
    },
    {
      "cell_type": "code",
      "metadata": {
        "id": "muisau1bGymz",
        "colab_type": "code",
        "colab": {
          "base_uri": "https://localhost:8080/",
          "height": 36
        },
        "outputId": "ae4930d1-67e9-40bf-ef7f-13e74cc4888f"
      },
      "source": [
        "data_clas.classes"
      ],
      "execution_count": null,
      "outputs": [
        {
          "output_type": "execute_result",
          "data": {
            "text/plain": [
              "['negative', 'neutral', 'positive']"
            ]
          },
          "metadata": {
            "tags": []
          },
          "execution_count": 71
        }
      ]
    },
    {
      "cell_type": "code",
      "metadata": {
        "id": "Xj0bQ24kYn-J",
        "colab_type": "code",
        "colab": {
          "base_uri": "https://localhost:8080/",
          "height": 36
        },
        "outputId": "dd3198e4-61f5-44c1-df4a-110dbb915b97"
      },
      "source": [
        "# Positive Tweet\n",
        "learn.predict(\"@Virgin I really loved that airline, it was awesome!\")"
      ],
      "execution_count": null,
      "outputs": [
        {
          "output_type": "execute_result",
          "data": {
            "text/plain": [
              "(Category tensor(2), tensor(2), tensor([7.7929e-05, 1.0337e-07, 9.9992e-01]))"
            ]
          },
          "metadata": {
            "tags": []
          },
          "execution_count": 45
        }
      ]
    },
    {
      "cell_type": "code",
      "metadata": {
        "id": "O_YEOpjBYn-Q",
        "colab_type": "code",
        "colab": {
          "base_uri": "https://localhost:8080/",
          "height": 36
        },
        "outputId": "c512aa81-6d03-472a-cf54-6cea58163aba"
      },
      "source": [
        "# Negative Tweet\n",
        "learn.predict(\"@Toronto I do not enjoy taking flights from this airport\")"
      ],
      "execution_count": null,
      "outputs": [
        {
          "output_type": "execute_result",
          "data": {
            "text/plain": [
              "(Category tensor(0), tensor(0), tensor([9.9996e-01, 2.9250e-05, 9.1083e-06]))"
            ]
          },
          "metadata": {
            "tags": []
          },
          "execution_count": 46
        }
      ]
    }
  ]
}